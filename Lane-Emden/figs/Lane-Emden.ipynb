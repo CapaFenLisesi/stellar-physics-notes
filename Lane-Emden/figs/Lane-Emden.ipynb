{
 "metadata": {
  "name": "",
  "signature": "sha256:5d8c4d841dcb8ec18b41913d87af51ccda723ef3dd4e6bb248c1c82bf6b852e8"
 },
 "nbformat": 3,
 "nbformat_minor": 0,
 "worksheets": [
  {
   "cells": [
    {
     "cell_type": "markdown",
     "metadata": {},
     "source": [
      "# Lane-Emden equation\n",
      "This notebook contains a simple calculation of a polytropic star.  It does so by integrating the *Lane-Emden* equation of index $n$:\n",
      "\\begin{equation}\n",
      "    \\xi^{-2} \\frac{d}{d\\xi}\\left(\\xi^2 \\frac{d\\theta}{d\\xi}\\right) = -\\theta^n\n",
      "\\end{equation}\n",
      "from $\\xi = 0$ (where $\\theta(0) = 1$) to the first root $\\xi_1$ at which $\\theta(\\xi_1) = 0$.\n",
      "\n",
      "To do this, we recast our 2<sup>d</sup> order differential equation into two 1<sup>st</sup> order differential equations in variables $y_0 = \\theta, y_1 = d\\theta/d\\xi$:\n",
      "\\begin{eqnarray}\n",
      "    \\frac{dy_0}{d\\xi} &=& y_1\\\\\n",
      "    \\frac{dy_1}{d\\xi} &=& -y_0^n - 2\\frac{y_1}{\\xi}.\n",
      "\\end{eqnarray}\n",
      "At the center of the star ($\\xi\\to 0$), we have the boundary conditions $y_0(0) = 1$, $y_1(0) = 0$.\n",
      "\n",
      "There are a few technical considerations in doing this integration. First, $dy_1/d\\xi$ blows up as $\\xi\\to 0$, so we must start slightly off-center using the expansion\n",
      "\\begin{equation}\n",
      "\\theta(\\xi) = 1 - \\frac{1}{6}\\xi^2 + \\frac{n}{120} \\xi^4 - \\frac{n(8n-5)}{15120}\\xi^6 + O(\\xi^8).\n",
      "\\end{equation}\n",
      "Second, if $n$ is not an integer, then we don't wish to integrate past $\\xi = \\xi_1$, where $y_0 = 0$. Our integration must therefore creep up carefully to the edge."
     ]
    },
    {
     "cell_type": "markdown",
     "metadata": {},
     "source": [
      "## Setting the work environment\n",
      "Before going further, we'll make our IPython notebook compatible with Python 3.0 by importing the new division and print function. We'll then inline our plots and import the `numpy` and `pyplot` modules."
     ]
    },
    {
     "cell_type": "code",
     "collapsed": false,
     "input": [
      "from __future__ import division, print_function\n",
      "%matplotlib inline\n",
      "import numpy as np\n",
      "import matplotlib.pyplot as plt\n",
      "from matplotlib import rc"
     ],
     "language": "python",
     "metadata": {},
     "outputs": []
    },
    {
     "cell_type": "markdown",
     "metadata": {},
     "source": [
      "## Runge-Kutta 4th order stepper\n",
      "Although `scipy` contains several good ODE integrators, we'll roll our own.  The following routine advance a system of ODE's $y' = f(t,y)$ from $t$ to $t+h$, where $h$ is the stepsize and $y, y'$ are vectors."
     ]
    },
    {
     "cell_type": "code",
     "collapsed": false,
     "input": [
      "def rk4(t,h,y,f,**kwargs):\n",
      "    h12 = h/2\n",
      "    t12 = t + h12\n",
      "    k1 = f(t,y,**kwargs)\n",
      "    k2 = f(t12,y+h12*k1,**kwargs)\n",
      "    k3 = f(t12,y+h12*k2,**kwargs)\n",
      "    k4 = f(t+h,y+h*k3,**kwargs)\n",
      "    return y + h*(k1+2*k2+2*k3+k4)/6"
     ],
     "language": "python",
     "metadata": {},
     "outputs": []
    },
    {
     "cell_type": "markdown",
     "metadata": {},
     "source": [
      "## Lane-Emden class"
     ]
    },
    {
     "cell_type": "code",
     "collapsed": false,
     "input": [
      "class LaneEmden:\n",
      "    def __init__(self,index=0):\n",
      "        self.n = index\n",
      "    \n",
      "    def LE(self,t,y):\n",
      "        n = self.n\n",
      "        return np.array([y[1], -y[0]**n - 2*y[1]/t])\n",
      "\n",
      "    def center(self,x):\n",
      "        n = self.n\n",
      "        x2 = x**2\n",
      "        y = np.zeros(2)\n",
      "        y[0] = 1 + x2*(-1/6 + x2*(n/120 - n*(8*n-5)*x2/15120))\n",
      "        y[1] = x*(-1/3 + x2*(n/30 - n*(8*n-5)*x2/2520))\n",
      "        return y\n",
      "\n",
      "    def integrate(self,h=0.001,nstps=1000,prec=1.0e-6,dt_store=0.1):\n",
      "        n = self.n\n",
      "        y = np.zeros((nstps,2))\n",
      "        t = np.zeros(nstps)\n",
      "        t_store=np.zeros(nstps)\n",
      "        y_store=np.zeros(nstps)\n",
      "        t[0] = h\n",
      "        y[0,:] = self.center(t[0])\n",
      "        t_store[0] = t[0]\n",
      "        y_store[0] = y[0,0]\n",
      "        str_ptr = 0\n",
      "        for i in xrange(1,nstps):\n",
      "            H_P = abs(y[i-1,:]/self.LE(t[i-1],y[i-1,:]))\n",
      "            h = 0.05*min(H_P)\n",
      "            y[i,:] = rk4(t[i-1],h,y[i-1,:],self.LE)\n",
      "            t[i] = t[i-1]+h\n",
      "            # check if we wish to store this point\n",
      "            if t[i] > t_store[str_ptr]+dt_store:\n",
      "                str_ptr += 1\n",
      "                t_store[str_ptr] = t[i]\n",
      "                y_store[str_ptr] = y[i,0]\n",
      "            if (h < prec):\n",
      "                # store the last point\n",
      "                str_ptr += 1\n",
      "                t_store[str_ptr] = t[i] + H_P[0]\n",
      "                y_store[str_ptr] = 0.0\n",
      "                break\n",
      "        r1 = t_store[str_ptr]\n",
      "        dy = y[i,1]\n",
      "        print('r1 = {0:6.3f}; dy = {1:10.3e}; N = {2:4d}'.format(r1,dy,str_ptr))\n",
      "        return t_store[0:str_ptr+1],y_store[0:str_ptr+1]"
     ],
     "language": "python",
     "metadata": {},
     "outputs": []
    },
    {
     "cell_type": "code",
     "collapsed": false,
     "input": [
      "figwidth=5.0\n",
      "figheight=0.618*figwidth\n",
      "charsize=10\n",
      "major_ticklength=0.6*charsize\n",
      "major_tickwidth=0.9\n",
      "minor_ticklength=0.3*charsize\n",
      "minor_tickwidth=0.7\n",
      "rc('figure',**{'figsize':(figwidth,figheight)})\n",
      "rc('mathtext',**{'fontset':'stixsans'})\n",
      "rc('font',**{'size':'12'})\n",
      "rc('axes',**{'titlesize':12,'labelsize':12})\n",
      "rc('xtick',**{'major.size':major_ticklength,'major.width':major_tickwidth,\\\n",
      "              'minor.size':minor_ticklength,'labelsize':charsize})\n",
      "rc('ytick',**{'major.size':major_ticklength,'major.width':major_tickwidth,\\\n",
      "              'minor.size':minor_ticklength,'labelsize':charsize})\n",
      "rc('lines',**{'linewidth':1.0})\n",
      "\n",
      "for n in (0,1,1.5,2,3,4):\n",
      "    p = LaneEmden(index=n)\n",
      "    t,y = p.integrate()\n",
      "    plt.plot(t,y,color='k')\n",
      "    xinfig = np.where(t < 8)\n",
      "    xloc = t[max(xinfig[0])]\n",
      "    yloc = y[max(xinfig[0])]\n",
      "    plt.annotate(str(n),size=8,xy=(xloc,yloc),\\\n",
      "                 xytext=(-0.1*charsize,0.5*charsize),textcoords='offset points')\n",
      "plt.xlim(0,8)\n",
      "plt.ylim(0,1)\n",
      "plt.xlabel(r'$\\xi$')\n",
      "plt.ylabel(r'$\\theta$')\n",
      "plt.title('Lane-Emden Solutions')"
     ],
     "language": "python",
     "metadata": {},
     "outputs": []
    },
    {
     "cell_type": "code",
     "collapsed": false,
     "input": [],
     "language": "python",
     "metadata": {},
     "outputs": []
    }
   ],
   "metadata": {}
  }
 ]
}