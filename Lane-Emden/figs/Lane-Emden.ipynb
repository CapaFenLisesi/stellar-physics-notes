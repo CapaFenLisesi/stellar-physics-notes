{
 "metadata": {
  "name": "",
  "signature": "sha256:fea47bc2554f64a355ac228c5f427b7a8e85f39431bf09b2c8e48cc99d1e80cc"
 },
 "nbformat": 3,
 "nbformat_minor": 0,
 "worksheets": [
  {
   "cells": [
    {
     "cell_type": "markdown",
     "metadata": {},
     "source": [
      "# Lane-Emden equation\n",
      "This notebook contains a simple calculation of a polytropic star.  It does so by integrating the *Lane-Emden* equation of index $n$:\n",
      "\\begin{equation}\n",
      "    \\xi^{-2} \\frac{d}{d\\xi}\\left(\\xi^2 \\frac{d\\theta}{d\\xi}\\right) = -\\theta^n\n",
      "\\end{equation}\n",
      "from $\\xi = 0$ (where $\\theta(0) = 1$) to the first root $\\xi_1$ at which $\\theta(\\xi_1) = 0$.\n",
      "\n",
      "To do this, we recast our 2<sup>d</sup> order differential equation into two 1<sup>st</sup> order differential equations in variables $y_0 = \\theta, y_1 = d\\theta/d\\xi$:\n",
      "\\begin{eqnarray}\n",
      "    \\frac{dy_0}{d\\xi} &=& y_1\\\\\n",
      "    \\frac{dy_1}{d\\xi} &=& -y_0^n - 2\\frac{y_1}{\\xi}.\n",
      "\\end{eqnarray}\n",
      "At the center of the star ($\\xi\\to 0$), we have the boundary conditions $y_0(0) = 1$, $y_1(0) = 0$.\n",
      "\n",
      "There are a few technical considerations in doing this integration. First, $dy_1/d\\xi$ blows up as $\\xi\\to 0$, so we must start slightly off-center using the expansion\n",
      "\\begin{equation}\n",
      "\\theta(\\xi) = 1 - \\frac{1}{6}\\xi^2 + \\frac{n}{120} \\xi^4 - \\frac{n(8n-5)}{15120}\\xi^6 + O(\\xi^8).\n",
      "\\end{equation}\n",
      "Second, if $n$ is not an integer, then we don't wish to integrate past $\\xi = \\xi_1$, where $y_0 = 0$. Our integration must therefore creep up carefully to the edge."
     ]
    },
    {
     "cell_type": "markdown",
     "metadata": {},
     "source": [
      "## Setting the work environment\n",
      "Before going further, we'll make our IPython notebook compatible with Python 3.0 by importing the new division and print function. We'll then inline our plots and import the `numpy` and `pyplot` modules."
     ]
    },
    {
     "cell_type": "code",
     "collapsed": false,
     "input": [
      "from __future__ import division, print_function\n",
      "%matplotlib inline\n",
      "import numpy as np\n",
      "import matplotlib.pyplot as plt\n",
      "from matplotlib import rc"
     ],
     "language": "python",
     "metadata": {},
     "outputs": []
    },
    {
     "cell_type": "markdown",
     "metadata": {},
     "source": [
      "## Lane-Emden solver\n",
      "Let's first define a function to compute the RHS of the differential equations for index $n$. This returns a vector $[dy_0/dx, dy_1/dx]$."
     ]
    },
    {
     "cell_type": "code",
     "collapsed": false,
     "input": [
      "def LE(x,y,n):\n",
      "    return np.array([y[1], -y[0]**n - 2*y[1]/x])"
     ],
     "language": "python",
     "metadata": {},
     "outputs": []
    },
    {
     "cell_type": "markdown",
     "metadata": {},
     "source": [
      "Next we'll write a routine to compute the solution at a point near the center $h \\ll 1$.  This will return a vector $[y_0,y_1]$."
     ]
    },
    {
     "cell_type": "code",
     "collapsed": false,
     "input": [
      "def center(h,n):\n",
      "    h2 = h**2\n",
      "    y = np.zeros(2)\n",
      "    y[0] = 1 + h2*(-1/6 + h2*(n/120 - n*(8*n-5)*h2/15120))\n",
      "    y[1] = h*(-1/3 + h2*(n/30 - n*(8*n-5)*h2/2520))\n",
      "    return y"
     ],
     "language": "python",
     "metadata": {},
     "outputs": []
    },
    {
     "cell_type": "markdown",
     "metadata": {},
     "source": [
      "## Runge-Kutta 4th order stepper\n",
      "Although `scipy` contains several good ODE integrators, we'll roll our own to deal with some of the peculiarities of the Lane-Emden equation.  The following routine advance a system of ODE's $y' = f(t,y)$ from $t$ to $t+h$, where $h$ is the stepsize and $y, y'$ are vectors."
     ]
    },
    {
     "cell_type": "code",
     "collapsed": false,
     "input": [
      "def rk4(t,h,y,f,*args):\n",
      "    h12 = h/2\n",
      "    t12 = t + h12\n",
      "    k1 = f(t,y,*args)\n",
      "    k2 = f(t12,y+h12*k1,*args)\n",
      "    k3 = f(t12,y+h12*k2,*args)\n",
      "    k4 = f(t+h,y+h*k3,*args)\n",
      "    return y + h*(k1+2*k2+2*k3+k4)/6"
     ],
     "language": "python",
     "metadata": {},
     "outputs": []
    },
    {
     "cell_type": "markdown",
     "metadata": {},
     "source": [
      "Now for the integrator. It will call `rk4` repeatedly; the stepsize will be adjusted to be 0.05 of the scale length, $H_P = \\min(|y_0/y'_0|,|y_1/y'_1|)$.  As we approach the root ($y_0 \\to 0$) the step size will decrease; once it is less than `prec`, we will do a linear extrapolation and exit the solver.\n",
      "\n",
      "We'd like to make a plot of our solution, but we don't want to keep every single point; we'll therefore define a storage interval `dx_store` and store our solution at intermediate checkpoints."
     ]
    },
    {
     "cell_type": "code",
     "collapsed": false,
     "input": [
      "def integrate(n,h=0.001,nstps=1000,prec=1.0e-6,dx_store=0.1):\n",
      "    y = np.zeros((nstps,2))\n",
      "    x = np.zeros(nstps)\n",
      "    x_store=np.zeros(nstps)\n",
      "    y_store=np.zeros((nstps,2))\n",
      "    x[0] = h\n",
      "    y[0,:] = center(x[0],n)\n",
      "    x_store[0] = x[0]\n",
      "    y_store[0,:] = y[0,:]\n",
      "    str_ptr = 0\n",
      "    for i in xrange(1,nstps):\n",
      "        H_P = abs(y[i-1,:]/LE(x[i-1],y[i-1,:],n))\n",
      "        h = 0.05*min(H_P)\n",
      "        y[i,:] = rk4(x[i-1],h,y[i-1,:],LE,n)\n",
      "        x[i] = x[i-1]+h\n",
      "        \n",
      "        # store the last point\n",
      "        if (h < prec):\n",
      "            str_ptr += 1\n",
      "            x_store[str_ptr] = x[i] + H_P[0]\n",
      "            y_store[str_ptr,:] = y[i,:]\n",
      "            break\n",
      "        \n",
      "        # check if we wish to store this point\n",
      "        if x[i] > x_store[str_ptr]+dx_store:\n",
      "            str_ptr += 1\n",
      "            x_store[str_ptr] = x[i]\n",
      "            y_store[str_ptr,:] = y[i,:]\n",
      "        \n",
      "    return x_store[0:str_ptr+1],y_store[0:str_ptr+1,:]"
     ],
     "language": "python",
     "metadata": {},
     "outputs": []
    },
    {
     "cell_type": "markdown",
     "metadata": {},
     "source": [
      "Now we'll run our integration for several different values of $n$, and for each $n$ report the root and the deriviative $\\left.d\\theta/d\\xi\\right| = y_1(x=r_1)$."
     ]
    },
    {
     "cell_type": "code",
     "collapsed": false,
     "input": [
      "figwidth=5.0\n",
      "figheight=0.618*figwidth\n",
      "charsize=10\n",
      "major_ticklength=0.6*charsize\n",
      "major_tickwidth=0.9\n",
      "minor_ticklength=0.3*charsize\n",
      "minor_tickwidth=0.7\n",
      "rc('figure',**{'figsize':(figwidth,figheight)})\n",
      "rc('mathtext',**{'fontset':'stixsans'})\n",
      "rc('font',**{'size':'12'})\n",
      "rc('axes',**{'titlesize':12,'labelsize':12})\n",
      "rc('xtick',**{'major.size':major_ticklength,'major.width':major_tickwidth,\\\n",
      "              'minor.size':minor_ticklength,'labelsize':charsize})\n",
      "rc('ytick',**{'major.size':major_ticklength,'major.width':major_tickwidth,\\\n",
      "              'minor.size':minor_ticklength,'labelsize':charsize})\n",
      "rc('lines',**{'linewidth':1.0})\n",
      "\n",
      "print('{0:>3}{1:>8}{2:>12}'.format('n','r1','dy'))\n",
      "print(\"-\"*(3+8+12))\n",
      "for n in (0,1,1.5,2,3,4):\n",
      "    x,y = integrate(n)\n",
      "    plt.plot(x,y[:,0],color='k')\n",
      "    xinfig = np.where(x < 8)\n",
      "    xloc = x[max(xinfig[0])]\n",
      "    yloc = y[max(xinfig[0]),0]\n",
      "    plt.annotate(str(n),size=8,xy=(xloc,yloc),\\\n",
      "                 xytext=(-0.1*charsize,0.5*charsize),textcoords='offset points')\n",
      "    print('{0:3}{1:8.3f}{2:12.3e}'.format(n,x[-1],y[-1,1]))\n",
      "\n",
      "plt.xlim(0,8)\n",
      "plt.ylim(0,1)\n",
      "plt.xlabel(r'$\\xi$')\n",
      "plt.ylabel(r'$\\theta$')\n",
      "plt.title('Lane-Emden Solutions')"
     ],
     "language": "python",
     "metadata": {},
     "outputs": []
    },
    {
     "cell_type": "code",
     "collapsed": false,
     "input": [],
     "language": "python",
     "metadata": {},
     "outputs": []
    }
   ],
   "metadata": {}
  }
 ]
}