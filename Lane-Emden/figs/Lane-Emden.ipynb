{
 "metadata": {
  "name": "",
  "signature": "sha256:18ae99fd7d489b2693e6d43453f554fa8f648131d2bdd4488d6594955125a8bc"
 },
 "nbformat": 3,
 "nbformat_minor": 0,
 "worksheets": [
  {
   "cells": [
    {
     "cell_type": "markdown",
     "metadata": {},
     "source": [
      "# Lane-Emden equation\n",
      "This notebook contains a simple calculation of a polytropic star."
     ]
    },
    {
     "cell_type": "code",
     "collapsed": false,
     "input": [
      "from __future__ import division, print_function\n",
      "%matplotlib inline\n",
      "import numpy as np\n",
      "import matplotlib.pyplot as plt\n",
      "from matplotlib import rc"
     ],
     "language": "python",
     "metadata": {},
     "outputs": []
    },
    {
     "cell_type": "markdown",
     "metadata": {},
     "source": [
      "## Runge-Kutta 4th order step"
     ]
    },
    {
     "cell_type": "code",
     "collapsed": false,
     "input": [
      "def rk4(t,h,y,f,**kwargs):\n",
      "    h12 = h/2\n",
      "    t12 = t + h12\n",
      "    k1 = f(t,y,**kwargs)\n",
      "    k2 = f(t12,y+h12*k1,**kwargs)\n",
      "    k3 = f(t12,y+h12*k2,**kwargs)\n",
      "    k4 = f(t+h,y+h*k3,**kwargs)\n",
      "    return y + h*(k1+2*k2+2*k3+k4)/6"
     ],
     "language": "python",
     "metadata": {},
     "outputs": []
    },
    {
     "cell_type": "markdown",
     "metadata": {},
     "source": [
      "## Lane-Emden class"
     ]
    },
    {
     "cell_type": "code",
     "collapsed": false,
     "input": [
      "class LaneEmden:\n",
      "    def __init__(self,index=0):\n",
      "        self.n = index\n",
      "    \n",
      "    def LE(self,t,y):\n",
      "        n = self.n\n",
      "        return np.array([y[1], -y[0]**n - 2*y[1]/t])\n",
      "\n",
      "    def center(self,x):\n",
      "        n = self.n\n",
      "        x2 = x**2\n",
      "        y = np.zeros(2)\n",
      "        y[0] = 1 + x2*(-1/6 + x2*(n/120 - n*(8*n-5)*x2/15120))\n",
      "        y[1] = x*(-1/3 + x2*(n/30 - n*(8*n-5)*x2/2520))\n",
      "        return y\n",
      "\n",
      "    def integrate(self,h=0.001,nstps=1000,prec=1.0e-6):\n",
      "        n = self.n\n",
      "        y = np.zeros((nstps,2))\n",
      "        t = np.zeros(nstps)\n",
      "        t[0] = h\n",
      "        y[0,:] = self.center(t[0])\n",
      "        for i in xrange(1,nstps):\n",
      "            H_P = abs(y[i-1,:]/self.LE(t[i-1],y[i-1,:]))\n",
      "            h = 0.05*min(H_P)\n",
      "            y[i,:] = rk4(t[i-1],h,y[i-1,:],self.LE)\n",
      "            t[i] = t[i-1]+h\n",
      "            if (h < prec):\n",
      "                t[i] += min(H_P)\n",
      "                print('r1 = {0:6.4f}; y[0] = {1:11.4e}; i = {2:4d}'.format(t[i],y[i,0],i))\n",
      "                break\n",
      "        return t[0:i],y[0:i,:]"
     ],
     "language": "python",
     "metadata": {},
     "outputs": []
    },
    {
     "cell_type": "code",
     "collapsed": false,
     "input": [
      "figwidth=5.0\n",
      "figheight=0.618*figwidth\n",
      "charsize=10\n",
      "major_ticklength=0.6*charsize\n",
      "major_tickwidth=0.9\n",
      "minor_ticklength=0.3*charsize\n",
      "minor_tickwidth=0.7\n",
      "rc('figure',**{'figsize':(figwidth,figheight)})\n",
      "rc('mathtext',**{'fontset':'stixsans'})\n",
      "rc('font',**{'size':'12'})\n",
      "rc('axes',**{'titlesize':12,'labelsize':12})\n",
      "rc('xtick',**{'major.size':major_ticklength,'major.width':major_tickwidth,\\\n",
      "              'minor.size':minor_ticklength,'labelsize':charsize})\n",
      "rc('ytick',**{'major.size':major_ticklength,'major.width':major_tickwidth,\\\n",
      "              'minor.size':minor_ticklength,'labelsize':charsize})\n",
      "rc('lines',**{'linewidth':1.0})\n",
      "\n",
      "for n in (0,1,1.5,2,3,4):\n",
      "    p = LaneEmden(index=n)\n",
      "    t,y = p.integrate()\n",
      "    plt.plot(t,y[:,0],color='k')\n",
      "    xinfig = np.where(t < 8)\n",
      "    xloc = t[max(xinfig[0])]\n",
      "    yloc = y[max(xinfig[0]),0]\n",
      "    plt.annotate(str(n),xy=(xloc,yloc),xytext=(-0.1*charsize,0.5*charsize),textcoords='offset points',size=8)\n",
      "plt.xlim(0,8)\n",
      "plt.ylim(0,1)\n",
      "plt.xlabel(r'$\\xi$')\n",
      "plt.ylabel(r'$\\theta$')\n",
      "plt.title('Lane-Emden Solutions')"
     ],
     "language": "python",
     "metadata": {},
     "outputs": []
    },
    {
     "cell_type": "code",
     "collapsed": false,
     "input": [],
     "language": "python",
     "metadata": {},
     "outputs": []
    }
   ],
   "metadata": {}
  }
 ]
}